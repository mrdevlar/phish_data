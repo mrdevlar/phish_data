{
 "cells": [
  {
   "cell_type": "code",
   "execution_count": 3,
   "metadata": {},
   "outputs": [],
   "source": [
    "import requests\n",
    "from bs4 import BeautifulSoup\n",
    "\n",
    "import numpy as np\n",
    "import pandas as pd\n",
    "import matplotlib.pyplot as plt\n",
    "import seaborn as sns\n",
    "import datetime"
   ]
  },
  {
   "cell_type": "code",
   "execution_count": 91,
   "metadata": {},
   "outputs": [],
   "source": [
    "class SongList:\n",
    "    def __init__(self):\n",
    "        self.song_dict = {}\n",
    "        self.table = None\n",
    "        self.df = None\n",
    "        \n",
    "    def extract_table(self,url):    \n",
    "        response = requests.request(\"GET\", url)\n",
    "        soup = BeautifulSoup(response.content.decode('utf-8', 'ignore'), \"lxml\")\n",
    "        table = soup.find_all('table')[0]\n",
    "        self.table = table\n",
    "    \n",
    "    def parse_songlist(self):\n",
    "        \"\"\" Extracts high-level songlist\n",
    "        \"\"\"\n",
    "        table = self.table\n",
    "        for idx, row in enumerate(table.find_all('tr')):\n",
    "            if idx == 0:\n",
    "                headers = table.find_all('th')\n",
    "                header_row = [head.get_text() for head in headers]\n",
    "                empty_lists = [list() for head in headers]\n",
    "                self.song_dict = {key: value for key, value in zip(header_row, empty_lists)}\n",
    "                self.song_dict['Link'] = []\n",
    "                continue\n",
    "            col = row.find_all('td')\n",
    "            col_text = [entry.get_text() for entry in col]\n",
    "            col_dict = {key: value for key, value in zip(header_row, col_text)}\n",
    "            col_dict['Link'] = row.find_all(href = True)[0]['href'] \n",
    "            if len(col_text) != len(header_row):\n",
    "                continue                 # remove merged cells\n",
    "            for key, val in col_dict.items():\n",
    "                self.song_dict[key].extend([val])\n",
    "    \n",
    "    def parse_performances(self):\n",
    "        \n",
    "    \n",
    "    def load_df(self):\n",
    "        df = pd.DataFrame(self.song_dict)\n",
    "        df = df.replace('—',np.NaN)\n",
    "        df['Gap'] = [int(x) for x in df['Gap'].values]\n",
    "        df = df.replace(df['Gap'].max(), np.nan)\n",
    "        df['Times'] = [int(x) for x in df['Times'].values]\n",
    "        df['Debut'] = [pd.to_datetime(x) for x in df['Debut'].values]\n",
    "        df['Last']  = [pd.to_datetime(x) for x in df['Last'].values]\n",
    "        df['Tenure'] = (df['Last'] - df['Debut']).dt.days\n",
    "        df['Play_Ratio'] = df['Times'] / df['Tenure']\n",
    "        df.Play_Ratio = df.Play_Ratio.replace(np.inf, 0)\n",
    "        self.df = df\n",
    "        \n",
    "    \n",
    "class Library:\n",
    "    def __init__(self):\n",
    "        self.artist = []"
   ]
  },
  {
   "cell_type": "code",
   "execution_count": 93,
   "metadata": {},
   "outputs": [
    {
     "data": {
      "text/html": [
       "<div>\n",
       "<style scoped>\n",
       "    .dataframe tbody tr th:only-of-type {\n",
       "        vertical-align: middle;\n",
       "    }\n",
       "\n",
       "    .dataframe tbody tr th {\n",
       "        vertical-align: top;\n",
       "    }\n",
       "\n",
       "    .dataframe thead th {\n",
       "        text-align: right;\n",
       "    }\n",
       "</style>\n",
       "<table border=\"1\" class=\"dataframe\">\n",
       "  <thead>\n",
       "    <tr style=\"text-align: right;\">\n",
       "      <th></th>\n",
       "      <th>Debut</th>\n",
       "      <th>Gap</th>\n",
       "      <th>Last</th>\n",
       "      <th>Link</th>\n",
       "      <th>Original Artist</th>\n",
       "      <th>Song Name</th>\n",
       "      <th>Times</th>\n",
       "      <th>Tenure</th>\n",
       "      <th>Play_Ratio</th>\n",
       "    </tr>\n",
       "  </thead>\n",
       "  <tbody>\n",
       "    <tr>\n",
       "      <th>0</th>\n",
       "      <td>1985-03-16</td>\n",
       "      <td>13.0</td>\n",
       "      <td>2017-07-29</td>\n",
       "      <td>/song/alumni-blues</td>\n",
       "      <td>Phish</td>\n",
       "      <td>Alumni Blues</td>\n",
       "      <td>107</td>\n",
       "      <td>11823</td>\n",
       "      <td>0.009050</td>\n",
       "    </tr>\n",
       "    <tr>\n",
       "      <th>1</th>\n",
       "      <td>1986-02-03</td>\n",
       "      <td>0.0</td>\n",
       "      <td>2017-12-31</td>\n",
       "      <td>/song/you-enjoy-myself</td>\n",
       "      <td>Phish</td>\n",
       "      <td>You Enjoy Myself</td>\n",
       "      <td>581</td>\n",
       "      <td>11654</td>\n",
       "      <td>0.049854</td>\n",
       "    </tr>\n",
       "    <tr>\n",
       "      <th>2</th>\n",
       "      <td>1986-04-01</td>\n",
       "      <td>3.0</td>\n",
       "      <td>2017-12-28</td>\n",
       "      <td>/song/acdc-bag</td>\n",
       "      <td>Phish</td>\n",
       "      <td>AC/DC Bag</td>\n",
       "      <td>310</td>\n",
       "      <td>11594</td>\n",
       "      <td>0.026738</td>\n",
       "    </tr>\n",
       "    <tr>\n",
       "      <th>3</th>\n",
       "      <td>1987-04-29</td>\n",
       "      <td>8.0</td>\n",
       "      <td>2017-08-05</td>\n",
       "      <td>/song/fuck-your-face</td>\n",
       "      <td>Phish</td>\n",
       "      <td>Fuck Your Face</td>\n",
       "      <td>13</td>\n",
       "      <td>11056</td>\n",
       "      <td>0.001176</td>\n",
       "    </tr>\n",
       "    <tr>\n",
       "      <th>4</th>\n",
       "      <td>1987-05-11</td>\n",
       "      <td>14.0</td>\n",
       "      <td>2017-07-28</td>\n",
       "      <td>/song/divided-sky</td>\n",
       "      <td>Phish</td>\n",
       "      <td>Divided Sky</td>\n",
       "      <td>412</td>\n",
       "      <td>11036</td>\n",
       "      <td>0.037332</td>\n",
       "    </tr>\n",
       "  </tbody>\n",
       "</table>\n",
       "</div>"
      ],
      "text/plain": [
       "       Debut   Gap       Last                    Link Original Artist  \\\n",
       "0 1985-03-16  13.0 2017-07-29      /song/alumni-blues           Phish   \n",
       "1 1986-02-03   0.0 2017-12-31  /song/you-enjoy-myself           Phish   \n",
       "2 1986-04-01   3.0 2017-12-28          /song/acdc-bag           Phish   \n",
       "3 1987-04-29   8.0 2017-08-05    /song/fuck-your-face           Phish   \n",
       "4 1987-05-11  14.0 2017-07-28       /song/divided-sky           Phish   \n",
       "\n",
       "          Song Name  Times  Tenure  Play_Ratio  \n",
       "0      Alumni Blues    107   11823    0.009050  \n",
       "1  You Enjoy Myself    581   11654    0.049854  \n",
       "2         AC/DC Bag    310   11594    0.026738  \n",
       "3    Fuck Your Face     13   11056    0.001176  \n",
       "4       Divided Sky    412   11036    0.037332  "
      ]
     },
     "execution_count": 93,
     "metadata": {},
     "output_type": "execute_result"
    }
   ],
   "source": [
    "phish_songlist = SongList()\n",
    "phish_songlist.extract_table('http://phish.net/song')\n",
    "phish_songlist.parse_songlist()\n",
    "\n",
    "phish_songlist.load_df()\n",
    "phish_songlist.df.head()\n"
   ]
  },
  {
   "cell_type": "code",
   "execution_count": 84,
   "metadata": {},
   "outputs": [
    {
     "name": "stdout",
     "output_type": "stream",
     "text": [
      "<class 'pandas.core.frame.DataFrame'>\n",
      "RangeIndex: 877 entries, 0 to 876\n",
      "Data columns (total 9 columns):\n",
      "Debut              877 non-null datetime64[ns]\n",
      "Gap                875 non-null float64\n",
      "Last               877 non-null datetime64[ns]\n",
      "Link               877 non-null object\n",
      "Original Artist    877 non-null object\n",
      "Song Name          877 non-null object\n",
      "Times              877 non-null int64\n",
      "Tenure             877 non-null int64\n",
      "Play_Ratio         877 non-null float64\n",
      "dtypes: datetime64[ns](2), float64(2), int64(2), object(3)\n",
      "memory usage: 61.7+ KB\n"
     ]
    }
   ],
   "source": [
    "df = phish_songlist.df\n",
    "df.info()"
   ]
  },
  {
   "cell_type": "code",
   "execution_count": null,
   "metadata": {},
   "outputs": [],
   "source": [
    "class PerformanceList:\n",
    "    "
   ]
  },
  {
   "cell_type": "code",
   "execution_count": 72,
   "metadata": {},
   "outputs": [
    {
     "data": {
      "image/png": "[encoded data removed]",
      "text/plain": [
       "<matplotlib.figure.Figure at 0x1d3e6ff4390>"
      ]
     },
     "metadata": {},
     "output_type": "display_data"
    }
   ],
   "source": [
    "plt.hist(cf.Play_Ratio, bins=50, normed=True)\n",
    "plt.show()"
   ]
  },
  {
   "cell_type": "code",
   "execution_count": null,
   "metadata": {},
   "outputs": [],
   "source": []
  },
  {
   "cell_type": "code",
   "execution_count": 73,
   "metadata": {},
   "outputs": [
    {
     "data": {
      "image/png": "[encoded data removed]",
      "text/plain": [
       "<matplotlib.figure.Figure at 0x1d3e481d5c0>"
      ]
     },
     "metadata": {},
     "output_type": "display_data"
    }
   ],
   "source": [
    "sns.kdeplot(cf.Play_Ratio.values)\n",
    "plt.show()"
   ]
  },
  {
   "cell_type": "code",
   "execution_count": 79,
   "metadata": {},
   "outputs": [
    {
     "data": {
      "image/png": "[encoded data removed]",
      "text/plain": [
       "<matplotlib.figure.Figure at 0x1d3e7e450b8>"
      ]
     },
     "metadata": {},
     "output_type": "display_data"
    }
   ],
   "source": [
    "plt.plot(cf.Play_Ratio.values, cf.Times.values, marker = '.', linestyle = 'none')\n",
    "plt.show()"
   ]
  },
  {
   "cell_type": "code",
   "execution_count": null,
   "metadata": {},
   "outputs": [],
   "source": []
  }
 ],
 "metadata": {
  "kernelspec": {
   "display_name": "Python 3",
   "language": "python",
   "name": "python3"
  },
  "language_info": {
   "codemirror_mode": {
    "name": "ipython",
    "version": 3
   },
   "file_extension": ".py",
   "mimetype": "text/x-python",
   "name": "python",
   "nbconvert_exporter": "python",
   "pygments_lexer": "ipython3",
   "version": "3.6.4"
  }
 },
 "nbformat": 4,
 "nbformat_minor": 2
}
