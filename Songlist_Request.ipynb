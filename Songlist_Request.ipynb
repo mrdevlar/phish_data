{
 "cells": [
  {
   "cell_type": "code",
   "execution_count": 1,
   "metadata": {},
   "outputs": [],
   "source": [
    "import apikey\n",
    "import requests\n",
    "from bs4 import BeautifulSoup\n",
    "apikey = apikey.apikey"
   ]
  },
  {
   "cell_type": "code",
   "execution_count": 2,
   "metadata": {},
   "outputs": [],
   "source": [
    "class SetList:\n",
    "    def __init__(self):\n",
    "        self.response = None\n",
    "        self.showid   = None\n",
    "        self.date     = None\n",
    "        self.location = None\n",
    "        self.venue    = None\n",
    "        self.rating   = None\n",
    "        self.songs    = None\n",
    "        \n",
    "    def __str__(self):\n",
    "        return str(self.response)\n",
    "    \n",
    "    def get_setlist(self, showdate, apikey=apikey):\n",
    "        url = 'https://api.phish.net/v3/setlists/get'\n",
    "        key_param = {'apikey':apikey, \"showdate\":showdate}\n",
    "        s = requests.post(url, params=key_param)\n",
    "        self.response = s.json()\n",
    "    \n",
    "    def read_response(self):\n",
    "        self.showid   = self.response['response']['data'][0]['showid']\n",
    "        self.date     = self.response['response']['data'][0]['showdate']\n",
    "        self.location = self.response['response']['data'][0]['location']\n",
    "        self.venue    = self.response['response']['data'][0]['venue']\n",
    "        self.rating   = self.response['response']['data'][0]['rating']"
   ]
  },
  {
   "cell_type": "code",
   "execution_count": 3,
   "metadata": {},
   "outputs": [],
   "source": [
    "def get_setlist(showdate, apikey=apikey):\n",
    "    url = 'https://api.phish.net/v3/setlists/get'\n",
    "    key_param = {'apikey':apikey, \"showdate\":showdate}\n",
    "    s = requests.post(url, params=key_param)\n",
    "    return s.json()"
   ]
  },
  {
   "cell_type": "code",
   "execution_count": 16,
   "metadata": {},
   "outputs": [],
   "source": [
    "def parse_setlist(setlist):\n",
    "    \n",
    "    # If there is no tracklist, escape with empty response\n",
    "    try:\n",
    "        response_data = setlist['response']['data'][0]\n",
    "    except IndexError:\n",
    "        return None\n",
    "        \n",
    "    location = response_data['location']\n",
    "    showdate = response_data['showdate']\n",
    "    rating   = response_data['rating']\n",
    "    venue    = BeautifulSoup(response_data['venue'],\"lxml\").text\n",
    "    soup     = BeautifulSoup(response_data['setlistdata'],\"lxml\")\n",
    "    \n",
    "    output = []\n",
    "    \n",
    "    setlist  = soup.find_all(['span','a'])\n",
    "    for line in setlist:\n",
    "        text = line.get_text()\n",
    "        is_span = line.name\n",
    "\n",
    "        if line.name == 'span':\n",
    "            which_set = line.text\n",
    "        elif line.name == 'a':\n",
    "            song_name = line.text\n",
    "            song_url = line.attrs['href']\n",
    "            if line.has_attr('title'):\n",
    "                song_comment = line.attrs['title']\n",
    "            else:\n",
    "                song_comment = None\n",
    "            track = {'set': which_set, \n",
    "                    'title': song_name ,\n",
    "                    'url': song_url, \n",
    "                    'comment': song_comment,\n",
    "                    'show_rating': rating,\n",
    "                    'location': location,\n",
    "                    'venue': venue,\n",
    "                    'show_date': showdate\n",
    "                    }\n",
    "            output.append(track)\n",
    "    return output"
   ]
  },
  {
   "cell_type": "code",
   "execution_count": 21,
   "metadata": {},
   "outputs": [],
   "source": [
    "showdate = '1988-02-10'\n",
    "setlist  = get_setlist(showdate)"
   ]
  },
  {
   "cell_type": "code",
   "execution_count": 22,
   "metadata": {},
   "outputs": [
    {
     "data": {
      "text/plain": [
       "{'error_code': 0, 'error_message': None, 'response': {'count': 0, 'data': []}}"
      ]
     },
     "execution_count": 22,
     "metadata": {},
     "output_type": "execute_result"
    }
   ],
   "source": [
    "setlist"
   ]
  },
  {
   "cell_type": "code",
   "execution_count": 23,
   "metadata": {},
   "outputs": [],
   "source": [
    "parse_setlist(setlist)"
   ]
  },
  {
   "cell_type": "code",
   "execution_count": 24,
   "metadata": {},
   "outputs": [
    {
     "data": {
      "text/plain": [
       "[]"
      ]
     },
     "execution_count": 24,
     "metadata": {},
     "output_type": "execute_result"
    }
   ],
   "source": []
  },
  {
   "cell_type": "code",
   "execution_count": 25,
   "metadata": {},
   "outputs": [],
   "source": [
    "import numpy as np\n",
    "import pandas as pd\n",
    "import matplotlib.pyplot as plt\n",
    "\n",
    "dfl = pd.read_csv(\"1987_2017_show_dates.csv\")\n",
    "dfl['Date'] = pd.to_datetime(dfl['Date'])\n",
    "dfl['Date'] = dfl['Date'].dt.strftime('%Y-%m-%d')\n",
    "\n",
    "set_dates = dfl['Date'].values"
   ]
  },
  {
   "cell_type": "code",
   "execution_count": 27,
   "metadata": {
    "scrolled": false
   },
   "outputs": [
    {
     "name": "stdout",
     "output_type": "stream",
     "text": [
      "1777\n",
      "(0, '1987-01-19')\n",
      "(1, '1987-01-21')\n",
      "(2, '1987-02-01')\n"
     ]
    }
   ],
   "source": [
    "from time import sleep\n",
    "print(len(set_dates))\n",
    "output = []\n",
    "\n",
    "for idx, set_date in enumerate(set_dates):\n",
    "    sleep(1)\n",
    "    \n",
    "    if idx > 2:\n",
    "        break\n",
    "        \n",
    "    print((idx,set_date))\n",
    "    setlist = get_setlist(set_date)\n",
    "    setlist = parse_setlist(setlist)\n",
    "    if setlist is None:\n",
    "        pass\n",
    "    else:\n",
    "        output.extend(setlist)"
   ]
  },
  {
   "cell_type": "code",
   "execution_count": 28,
   "metadata": {},
   "outputs": [
    {
     "data": {
      "text/plain": [
       "[{'comment': None,\n",
       "  'location': 'Burlington, VT, USA',\n",
       "  'set': 'Set 1',\n",
       "  'show_date': '1987-01-21',\n",
       "  'show_rating': '4.0000',\n",
       "  'title': 'Wilson',\n",
       "  'url': 'http://phish.net/song/wilson',\n",
       "  'venue': \"Hunt's\"},\n",
       " {'comment': None,\n",
       "  'location': 'Burlington, VT, USA',\n",
       "  'set': 'Set 2',\n",
       "  'show_date': '1987-01-21',\n",
       "  'show_rating': '4.0000',\n",
       "  'title': 'I Am Hydrogen',\n",
       "  'url': 'http://phish.net/song/i-am-hydrogen',\n",
       "  'venue': \"Hunt's\"},\n",
       " {'comment': None,\n",
       "  'location': 'Burlington, VT, USA',\n",
       "  'set': 'Set 2',\n",
       "  'show_date': '1987-01-21',\n",
       "  'show_rating': '4.0000',\n",
       "  'title': 'Peaches en Regalia',\n",
       "  'url': 'http://phish.net/song/peaches-en-regalia',\n",
       "  'venue': \"Hunt's\"},\n",
       " {'comment': None,\n",
       "  'location': 'Burlington, VT, USA',\n",
       "  'set': 'Set 2',\n",
       "  'show_date': '1987-01-21',\n",
       "  'show_rating': '4.0000',\n",
       "  'title': 'Swing Low, Sweet Chariot',\n",
       "  'url': 'http://phish.net/song/swing-low-sweet-chariot',\n",
       "  'venue': \"Hunt's\"},\n",
       " {'comment': None,\n",
       "  'location': 'Burlington, VT, USA',\n",
       "  'set': 'Set 2',\n",
       "  'show_date': '1987-01-21',\n",
       "  'show_rating': '4.0000',\n",
       "  'title': \"Sneakin' Sally Through the Alley\",\n",
       "  'url': 'http://phish.net/song/sneakin-sally-through-the-alley',\n",
       "  'venue': \"Hunt's\"},\n",
       " {'comment': None,\n",
       "  'location': 'Burlington, VT, USA',\n",
       "  'set': 'Set 2',\n",
       "  'show_date': '1987-01-21',\n",
       "  'show_rating': '4.0000',\n",
       "  'title': 'Makisupa Policeman',\n",
       "  'url': 'http://phish.net/song/makisupa-policeman',\n",
       "  'venue': \"Hunt's\"},\n",
       " {'comment': None,\n",
       "  'location': 'Burlington, VT, USA',\n",
       "  'set': 'Set 2',\n",
       "  'show_date': '1987-01-21',\n",
       "  'show_rating': '4.0000',\n",
       "  'title': 'Skin It Back',\n",
       "  'url': 'http://phish.net/song/skin-it-back',\n",
       "  'venue': \"Hunt's\"},\n",
       " {'comment': None,\n",
       "  'location': 'Burlington, VT, USA',\n",
       "  'set': 'Set 2',\n",
       "  'show_date': '1987-01-21',\n",
       "  'show_rating': '4.0000',\n",
       "  'title': 'Cities',\n",
       "  'url': 'http://phish.net/song/cities',\n",
       "  'venue': \"Hunt's\"},\n",
       " {'comment': None,\n",
       "  'location': 'Burlington, VT, USA',\n",
       "  'set': 'Set 2',\n",
       "  'show_date': '1987-01-21',\n",
       "  'show_rating': '4.0000',\n",
       "  'title': 'Fluffhead',\n",
       "  'url': 'http://phish.net/song/fluffhead',\n",
       "  'venue': \"Hunt's\"}]"
      ]
     },
     "execution_count": 28,
     "metadata": {},
     "output_type": "execute_result"
    }
   ],
   "source": [
    "output"
   ]
  },
  {
   "cell_type": "code",
   "execution_count": 29,
   "metadata": {},
   "outputs": [
    {
     "name": "stdout",
     "output_type": "stream",
     "text": [
      "<class 'pandas.core.frame.DataFrame'>\n",
      "RangeIndex: 9 entries, 0 to 8\n",
      "Data columns (total 8 columns):\n",
      "comment        0 non-null object\n",
      "location       9 non-null object\n",
      "set            9 non-null object\n",
      "show_date      9 non-null object\n",
      "show_rating    9 non-null object\n",
      "title          9 non-null object\n",
      "url            9 non-null object\n",
      "venue          9 non-null object\n",
      "dtypes: object(8)\n",
      "memory usage: 656.0+ bytes\n"
     ]
    }
   ],
   "source": [
    "df = pd.DataFrame(output)\n",
    "df.info()\n"
   ]
  },
  {
   "cell_type": "code",
   "execution_count": 30,
   "metadata": {},
   "outputs": [
    {
     "data": {
      "text/html": [
       "<div>\n",
       "<style scoped>\n",
       "    .dataframe tbody tr th:only-of-type {\n",
       "        vertical-align: middle;\n",
       "    }\n",
       "\n",
       "    .dataframe tbody tr th {\n",
       "        vertical-align: top;\n",
       "    }\n",
       "\n",
       "    .dataframe thead th {\n",
       "        text-align: right;\n",
       "    }\n",
       "</style>\n",
       "<table border=\"1\" class=\"dataframe\">\n",
       "  <thead>\n",
       "    <tr style=\"text-align: right;\">\n",
       "      <th></th>\n",
       "      <th>comment</th>\n",
       "      <th>location</th>\n",
       "      <th>set</th>\n",
       "      <th>show_date</th>\n",
       "      <th>show_rating</th>\n",
       "      <th>title</th>\n",
       "      <th>url</th>\n",
       "      <th>venue</th>\n",
       "    </tr>\n",
       "  </thead>\n",
       "  <tbody>\n",
       "    <tr>\n",
       "      <th>0</th>\n",
       "      <td>None</td>\n",
       "      <td>Burlington, VT, USA</td>\n",
       "      <td>Set 1</td>\n",
       "      <td>1987-01-21</td>\n",
       "      <td>4.0000</td>\n",
       "      <td>Wilson</td>\n",
       "      <td>http://phish.net/song/wilson</td>\n",
       "      <td>Hunt's</td>\n",
       "    </tr>\n",
       "    <tr>\n",
       "      <th>1</th>\n",
       "      <td>None</td>\n",
       "      <td>Burlington, VT, USA</td>\n",
       "      <td>Set 2</td>\n",
       "      <td>1987-01-21</td>\n",
       "      <td>4.0000</td>\n",
       "      <td>I Am Hydrogen</td>\n",
       "      <td>http://phish.net/song/i-am-hydrogen</td>\n",
       "      <td>Hunt's</td>\n",
       "    </tr>\n",
       "    <tr>\n",
       "      <th>2</th>\n",
       "      <td>None</td>\n",
       "      <td>Burlington, VT, USA</td>\n",
       "      <td>Set 2</td>\n",
       "      <td>1987-01-21</td>\n",
       "      <td>4.0000</td>\n",
       "      <td>Peaches en Regalia</td>\n",
       "      <td>http://phish.net/song/peaches-en-regalia</td>\n",
       "      <td>Hunt's</td>\n",
       "    </tr>\n",
       "    <tr>\n",
       "      <th>3</th>\n",
       "      <td>None</td>\n",
       "      <td>Burlington, VT, USA</td>\n",
       "      <td>Set 2</td>\n",
       "      <td>1987-01-21</td>\n",
       "      <td>4.0000</td>\n",
       "      <td>Swing Low, Sweet Chariot</td>\n",
       "      <td>http://phish.net/song/swing-low-sweet-chariot</td>\n",
       "      <td>Hunt's</td>\n",
       "    </tr>\n",
       "    <tr>\n",
       "      <th>4</th>\n",
       "      <td>None</td>\n",
       "      <td>Burlington, VT, USA</td>\n",
       "      <td>Set 2</td>\n",
       "      <td>1987-01-21</td>\n",
       "      <td>4.0000</td>\n",
       "      <td>Sneakin' Sally Through the Alley</td>\n",
       "      <td>http://phish.net/song/sneakin-sally-through-th...</td>\n",
       "      <td>Hunt's</td>\n",
       "    </tr>\n",
       "    <tr>\n",
       "      <th>5</th>\n",
       "      <td>None</td>\n",
       "      <td>Burlington, VT, USA</td>\n",
       "      <td>Set 2</td>\n",
       "      <td>1987-01-21</td>\n",
       "      <td>4.0000</td>\n",
       "      <td>Makisupa Policeman</td>\n",
       "      <td>http://phish.net/song/makisupa-policeman</td>\n",
       "      <td>Hunt's</td>\n",
       "    </tr>\n",
       "    <tr>\n",
       "      <th>6</th>\n",
       "      <td>None</td>\n",
       "      <td>Burlington, VT, USA</td>\n",
       "      <td>Set 2</td>\n",
       "      <td>1987-01-21</td>\n",
       "      <td>4.0000</td>\n",
       "      <td>Skin It Back</td>\n",
       "      <td>http://phish.net/song/skin-it-back</td>\n",
       "      <td>Hunt's</td>\n",
       "    </tr>\n",
       "    <tr>\n",
       "      <th>7</th>\n",
       "      <td>None</td>\n",
       "      <td>Burlington, VT, USA</td>\n",
       "      <td>Set 2</td>\n",
       "      <td>1987-01-21</td>\n",
       "      <td>4.0000</td>\n",
       "      <td>Cities</td>\n",
       "      <td>http://phish.net/song/cities</td>\n",
       "      <td>Hunt's</td>\n",
       "    </tr>\n",
       "    <tr>\n",
       "      <th>8</th>\n",
       "      <td>None</td>\n",
       "      <td>Burlington, VT, USA</td>\n",
       "      <td>Set 2</td>\n",
       "      <td>1987-01-21</td>\n",
       "      <td>4.0000</td>\n",
       "      <td>Fluffhead</td>\n",
       "      <td>http://phish.net/song/fluffhead</td>\n",
       "      <td>Hunt's</td>\n",
       "    </tr>\n",
       "  </tbody>\n",
       "</table>\n",
       "</div>"
      ],
      "text/plain": [
       "  comment             location    set   show_date show_rating  \\\n",
       "0    None  Burlington, VT, USA  Set 1  1987-01-21      4.0000   \n",
       "1    None  Burlington, VT, USA  Set 2  1987-01-21      4.0000   \n",
       "2    None  Burlington, VT, USA  Set 2  1987-01-21      4.0000   \n",
       "3    None  Burlington, VT, USA  Set 2  1987-01-21      4.0000   \n",
       "4    None  Burlington, VT, USA  Set 2  1987-01-21      4.0000   \n",
       "5    None  Burlington, VT, USA  Set 2  1987-01-21      4.0000   \n",
       "6    None  Burlington, VT, USA  Set 2  1987-01-21      4.0000   \n",
       "7    None  Burlington, VT, USA  Set 2  1987-01-21      4.0000   \n",
       "8    None  Burlington, VT, USA  Set 2  1987-01-21      4.0000   \n",
       "\n",
       "                              title  \\\n",
       "0                            Wilson   \n",
       "1                     I Am Hydrogen   \n",
       "2                Peaches en Regalia   \n",
       "3          Swing Low, Sweet Chariot   \n",
       "4  Sneakin' Sally Through the Alley   \n",
       "5                Makisupa Policeman   \n",
       "6                      Skin It Back   \n",
       "7                            Cities   \n",
       "8                         Fluffhead   \n",
       "\n",
       "                                                 url   venue  \n",
       "0                       http://phish.net/song/wilson  Hunt's  \n",
       "1                http://phish.net/song/i-am-hydrogen  Hunt's  \n",
       "2           http://phish.net/song/peaches-en-regalia  Hunt's  \n",
       "3      http://phish.net/song/swing-low-sweet-chariot  Hunt's  \n",
       "4  http://phish.net/song/sneakin-sally-through-th...  Hunt's  \n",
       "5           http://phish.net/song/makisupa-policeman  Hunt's  \n",
       "6                 http://phish.net/song/skin-it-back  Hunt's  \n",
       "7                       http://phish.net/song/cities  Hunt's  \n",
       "8                    http://phish.net/song/fluffhead  Hunt's  "
      ]
     },
     "execution_count": 30,
     "metadata": {},
     "output_type": "execute_result"
    }
   ],
   "source": [
    "df"
   ]
  },
  {
   "cell_type": "code",
   "execution_count": 26,
   "metadata": {},
   "outputs": [
    {
     "ename": "KeyError",
     "evalue": "'show_date'",
     "output_type": "error",
     "traceback": [
      "\u001b[1;31m---------------------------------------------------------------------------\u001b[0m",
      "\u001b[1;31mTypeError\u001b[0m                                 Traceback (most recent call last)",
      "\u001b[1;32mpandas\\_libs\\index.pyx\u001b[0m in \u001b[0;36mpandas._libs.index.IndexEngine.get_loc\u001b[1;34m()\u001b[0m\n",
      "\u001b[1;32mpandas\\_libs\\hashtable_class_helper.pxi\u001b[0m in \u001b[0;36mpandas._libs.hashtable.Int64HashTable.get_item\u001b[1;34m()\u001b[0m\n",
      "\u001b[1;31mTypeError\u001b[0m: an integer is required",
      "\nDuring handling of the above exception, another exception occurred:\n",
      "\u001b[1;31mKeyError\u001b[0m                                  Traceback (most recent call last)",
      "\u001b[1;32m~\\Anaconda3\\lib\\site-packages\\pandas\\core\\indexes\\base.py\u001b[0m in \u001b[0;36mget_loc\u001b[1;34m(self, key, method, tolerance)\u001b[0m\n\u001b[0;32m   3077\u001b[0m             \u001b[1;32mtry\u001b[0m\u001b[1;33m:\u001b[0m\u001b[1;33m\u001b[0m\u001b[0m\n\u001b[1;32m-> 3078\u001b[1;33m                 \u001b[1;32mreturn\u001b[0m \u001b[0mself\u001b[0m\u001b[1;33m.\u001b[0m\u001b[0m_engine\u001b[0m\u001b[1;33m.\u001b[0m\u001b[0mget_loc\u001b[0m\u001b[1;33m(\u001b[0m\u001b[0mkey\u001b[0m\u001b[1;33m)\u001b[0m\u001b[1;33m\u001b[0m\u001b[0m\n\u001b[0m\u001b[0;32m   3079\u001b[0m             \u001b[1;32mexcept\u001b[0m \u001b[0mKeyError\u001b[0m\u001b[1;33m:\u001b[0m\u001b[1;33m\u001b[0m\u001b[0m\n",
      "\u001b[1;32mpandas\\_libs\\index.pyx\u001b[0m in \u001b[0;36mpandas._libs.index.IndexEngine.get_loc\u001b[1;34m()\u001b[0m\n",
      "\u001b[1;32mpandas\\_libs\\index.pyx\u001b[0m in \u001b[0;36mpandas._libs.index.IndexEngine.get_loc\u001b[1;34m()\u001b[0m\n",
      "\u001b[1;31mKeyError\u001b[0m: 'show_date'",
      "\nDuring handling of the above exception, another exception occurred:\n",
      "\u001b[1;31mTypeError\u001b[0m                                 Traceback (most recent call last)",
      "\u001b[1;32mpandas\\_libs\\index.pyx\u001b[0m in \u001b[0;36mpandas._libs.index.IndexEngine.get_loc\u001b[1;34m()\u001b[0m\n",
      "\u001b[1;32mpandas\\_libs\\hashtable_class_helper.pxi\u001b[0m in \u001b[0;36mpandas._libs.hashtable.Int64HashTable.get_item\u001b[1;34m()\u001b[0m\n",
      "\u001b[1;31mTypeError\u001b[0m: an integer is required",
      "\nDuring handling of the above exception, another exception occurred:\n",
      "\u001b[1;31mKeyError\u001b[0m                                  Traceback (most recent call last)",
      "\u001b[1;32m<ipython-input-26-1034f59bc3b9>\u001b[0m in \u001b[0;36m<module>\u001b[1;34m()\u001b[0m\n\u001b[1;32m----> 1\u001b[1;33m \u001b[0mdf\u001b[0m\u001b[1;33m[\u001b[0m\u001b[1;34m'show_date'\u001b[0m\u001b[1;33m]\u001b[0m \u001b[1;33m=\u001b[0m \u001b[0mpd\u001b[0m\u001b[1;33m.\u001b[0m\u001b[0mto_datetime\u001b[0m\u001b[1;33m(\u001b[0m\u001b[0mdf\u001b[0m\u001b[1;33m[\u001b[0m\u001b[1;34m'show_date'\u001b[0m\u001b[1;33m]\u001b[0m\u001b[1;33m)\u001b[0m\u001b[1;33m\u001b[0m\u001b[0m\n\u001b[0m\u001b[0;32m      2\u001b[0m \u001b[0mdf\u001b[0m\u001b[1;33m.\u001b[0m\u001b[0mhead\u001b[0m\u001b[1;33m(\u001b[0m\u001b[1;33m)\u001b[0m\u001b[1;33m\u001b[0m\u001b[0m\n",
      "\u001b[1;32m~\\Anaconda3\\lib\\site-packages\\pandas\\core\\frame.py\u001b[0m in \u001b[0;36m__getitem__\u001b[1;34m(self, key)\u001b[0m\n\u001b[0;32m   2686\u001b[0m             \u001b[1;32mreturn\u001b[0m \u001b[0mself\u001b[0m\u001b[1;33m.\u001b[0m\u001b[0m_getitem_multilevel\u001b[0m\u001b[1;33m(\u001b[0m\u001b[0mkey\u001b[0m\u001b[1;33m)\u001b[0m\u001b[1;33m\u001b[0m\u001b[0m\n\u001b[0;32m   2687\u001b[0m         \u001b[1;32melse\u001b[0m\u001b[1;33m:\u001b[0m\u001b[1;33m\u001b[0m\u001b[0m\n\u001b[1;32m-> 2688\u001b[1;33m             \u001b[1;32mreturn\u001b[0m \u001b[0mself\u001b[0m\u001b[1;33m.\u001b[0m\u001b[0m_getitem_column\u001b[0m\u001b[1;33m(\u001b[0m\u001b[0mkey\u001b[0m\u001b[1;33m)\u001b[0m\u001b[1;33m\u001b[0m\u001b[0m\n\u001b[0m\u001b[0;32m   2689\u001b[0m \u001b[1;33m\u001b[0m\u001b[0m\n\u001b[0;32m   2690\u001b[0m     \u001b[1;32mdef\u001b[0m \u001b[0m_getitem_column\u001b[0m\u001b[1;33m(\u001b[0m\u001b[0mself\u001b[0m\u001b[1;33m,\u001b[0m \u001b[0mkey\u001b[0m\u001b[1;33m)\u001b[0m\u001b[1;33m:\u001b[0m\u001b[1;33m\u001b[0m\u001b[0m\n",
      "\u001b[1;32m~\\Anaconda3\\lib\\site-packages\\pandas\\core\\frame.py\u001b[0m in \u001b[0;36m_getitem_column\u001b[1;34m(self, key)\u001b[0m\n\u001b[0;32m   2693\u001b[0m         \u001b[1;31m# get column\u001b[0m\u001b[1;33m\u001b[0m\u001b[1;33m\u001b[0m\u001b[0m\n\u001b[0;32m   2694\u001b[0m         \u001b[1;32mif\u001b[0m \u001b[0mself\u001b[0m\u001b[1;33m.\u001b[0m\u001b[0mcolumns\u001b[0m\u001b[1;33m.\u001b[0m\u001b[0mis_unique\u001b[0m\u001b[1;33m:\u001b[0m\u001b[1;33m\u001b[0m\u001b[0m\n\u001b[1;32m-> 2695\u001b[1;33m             \u001b[1;32mreturn\u001b[0m \u001b[0mself\u001b[0m\u001b[1;33m.\u001b[0m\u001b[0m_get_item_cache\u001b[0m\u001b[1;33m(\u001b[0m\u001b[0mkey\u001b[0m\u001b[1;33m)\u001b[0m\u001b[1;33m\u001b[0m\u001b[0m\n\u001b[0m\u001b[0;32m   2696\u001b[0m \u001b[1;33m\u001b[0m\u001b[0m\n\u001b[0;32m   2697\u001b[0m         \u001b[1;31m# duplicate columns & possible reduce dimensionality\u001b[0m\u001b[1;33m\u001b[0m\u001b[1;33m\u001b[0m\u001b[0m\n",
      "\u001b[1;32m~\\Anaconda3\\lib\\site-packages\\pandas\\core\\generic.py\u001b[0m in \u001b[0;36m_get_item_cache\u001b[1;34m(self, item)\u001b[0m\n\u001b[0;32m   2487\u001b[0m         \u001b[0mres\u001b[0m \u001b[1;33m=\u001b[0m \u001b[0mcache\u001b[0m\u001b[1;33m.\u001b[0m\u001b[0mget\u001b[0m\u001b[1;33m(\u001b[0m\u001b[0mitem\u001b[0m\u001b[1;33m)\u001b[0m\u001b[1;33m\u001b[0m\u001b[0m\n\u001b[0;32m   2488\u001b[0m         \u001b[1;32mif\u001b[0m \u001b[0mres\u001b[0m \u001b[1;32mis\u001b[0m \u001b[1;32mNone\u001b[0m\u001b[1;33m:\u001b[0m\u001b[1;33m\u001b[0m\u001b[0m\n\u001b[1;32m-> 2489\u001b[1;33m             \u001b[0mvalues\u001b[0m \u001b[1;33m=\u001b[0m \u001b[0mself\u001b[0m\u001b[1;33m.\u001b[0m\u001b[0m_data\u001b[0m\u001b[1;33m.\u001b[0m\u001b[0mget\u001b[0m\u001b[1;33m(\u001b[0m\u001b[0mitem\u001b[0m\u001b[1;33m)\u001b[0m\u001b[1;33m\u001b[0m\u001b[0m\n\u001b[0m\u001b[0;32m   2490\u001b[0m             \u001b[0mres\u001b[0m \u001b[1;33m=\u001b[0m \u001b[0mself\u001b[0m\u001b[1;33m.\u001b[0m\u001b[0m_box_item_values\u001b[0m\u001b[1;33m(\u001b[0m\u001b[0mitem\u001b[0m\u001b[1;33m,\u001b[0m \u001b[0mvalues\u001b[0m\u001b[1;33m)\u001b[0m\u001b[1;33m\u001b[0m\u001b[0m\n\u001b[0;32m   2491\u001b[0m             \u001b[0mcache\u001b[0m\u001b[1;33m[\u001b[0m\u001b[0mitem\u001b[0m\u001b[1;33m]\u001b[0m \u001b[1;33m=\u001b[0m \u001b[0mres\u001b[0m\u001b[1;33m\u001b[0m\u001b[0m\n",
      "\u001b[1;32m~\\Anaconda3\\lib\\site-packages\\pandas\\core\\internals.py\u001b[0m in \u001b[0;36mget\u001b[1;34m(self, item, fastpath)\u001b[0m\n\u001b[0;32m   4113\u001b[0m \u001b[1;33m\u001b[0m\u001b[0m\n\u001b[0;32m   4114\u001b[0m             \u001b[1;32mif\u001b[0m \u001b[1;32mnot\u001b[0m \u001b[0misna\u001b[0m\u001b[1;33m(\u001b[0m\u001b[0mitem\u001b[0m\u001b[1;33m)\u001b[0m\u001b[1;33m:\u001b[0m\u001b[1;33m\u001b[0m\u001b[0m\n\u001b[1;32m-> 4115\u001b[1;33m                 \u001b[0mloc\u001b[0m \u001b[1;33m=\u001b[0m \u001b[0mself\u001b[0m\u001b[1;33m.\u001b[0m\u001b[0mitems\u001b[0m\u001b[1;33m.\u001b[0m\u001b[0mget_loc\u001b[0m\u001b[1;33m(\u001b[0m\u001b[0mitem\u001b[0m\u001b[1;33m)\u001b[0m\u001b[1;33m\u001b[0m\u001b[0m\n\u001b[0m\u001b[0;32m   4116\u001b[0m             \u001b[1;32melse\u001b[0m\u001b[1;33m:\u001b[0m\u001b[1;33m\u001b[0m\u001b[0m\n\u001b[0;32m   4117\u001b[0m                 \u001b[0mindexer\u001b[0m \u001b[1;33m=\u001b[0m \u001b[0mnp\u001b[0m\u001b[1;33m.\u001b[0m\u001b[0marange\u001b[0m\u001b[1;33m(\u001b[0m\u001b[0mlen\u001b[0m\u001b[1;33m(\u001b[0m\u001b[0mself\u001b[0m\u001b[1;33m.\u001b[0m\u001b[0mitems\u001b[0m\u001b[1;33m)\u001b[0m\u001b[1;33m)\u001b[0m\u001b[1;33m[\u001b[0m\u001b[0misna\u001b[0m\u001b[1;33m(\u001b[0m\u001b[0mself\u001b[0m\u001b[1;33m.\u001b[0m\u001b[0mitems\u001b[0m\u001b[1;33m)\u001b[0m\u001b[1;33m]\u001b[0m\u001b[1;33m\u001b[0m\u001b[0m\n",
      "\u001b[1;32m~\\Anaconda3\\lib\\site-packages\\pandas\\core\\indexes\\base.py\u001b[0m in \u001b[0;36mget_loc\u001b[1;34m(self, key, method, tolerance)\u001b[0m\n\u001b[0;32m   3078\u001b[0m                 \u001b[1;32mreturn\u001b[0m \u001b[0mself\u001b[0m\u001b[1;33m.\u001b[0m\u001b[0m_engine\u001b[0m\u001b[1;33m.\u001b[0m\u001b[0mget_loc\u001b[0m\u001b[1;33m(\u001b[0m\u001b[0mkey\u001b[0m\u001b[1;33m)\u001b[0m\u001b[1;33m\u001b[0m\u001b[0m\n\u001b[0;32m   3079\u001b[0m             \u001b[1;32mexcept\u001b[0m \u001b[0mKeyError\u001b[0m\u001b[1;33m:\u001b[0m\u001b[1;33m\u001b[0m\u001b[0m\n\u001b[1;32m-> 3080\u001b[1;33m                 \u001b[1;32mreturn\u001b[0m \u001b[0mself\u001b[0m\u001b[1;33m.\u001b[0m\u001b[0m_engine\u001b[0m\u001b[1;33m.\u001b[0m\u001b[0mget_loc\u001b[0m\u001b[1;33m(\u001b[0m\u001b[0mself\u001b[0m\u001b[1;33m.\u001b[0m\u001b[0m_maybe_cast_indexer\u001b[0m\u001b[1;33m(\u001b[0m\u001b[0mkey\u001b[0m\u001b[1;33m)\u001b[0m\u001b[1;33m)\u001b[0m\u001b[1;33m\u001b[0m\u001b[0m\n\u001b[0m\u001b[0;32m   3081\u001b[0m \u001b[1;33m\u001b[0m\u001b[0m\n\u001b[0;32m   3082\u001b[0m         \u001b[0mindexer\u001b[0m \u001b[1;33m=\u001b[0m \u001b[0mself\u001b[0m\u001b[1;33m.\u001b[0m\u001b[0mget_indexer\u001b[0m\u001b[1;33m(\u001b[0m\u001b[1;33m[\u001b[0m\u001b[0mkey\u001b[0m\u001b[1;33m]\u001b[0m\u001b[1;33m,\u001b[0m \u001b[0mmethod\u001b[0m\u001b[1;33m=\u001b[0m\u001b[0mmethod\u001b[0m\u001b[1;33m,\u001b[0m \u001b[0mtolerance\u001b[0m\u001b[1;33m=\u001b[0m\u001b[0mtolerance\u001b[0m\u001b[1;33m)\u001b[0m\u001b[1;33m\u001b[0m\u001b[0m\n",
      "\u001b[1;32mpandas\\_libs\\index.pyx\u001b[0m in \u001b[0;36mpandas._libs.index.IndexEngine.get_loc\u001b[1;34m()\u001b[0m\n",
      "\u001b[1;32mpandas\\_libs\\index.pyx\u001b[0m in \u001b[0;36mpandas._libs.index.IndexEngine.get_loc\u001b[1;34m()\u001b[0m\n",
      "\u001b[1;31mKeyError\u001b[0m: 'show_date'"
     ]
    }
   ],
   "source": [
    "df['show_date'] = pd.to_datetime(df['show_date'])\n",
    "df.head()"
   ]
  },
  {
   "cell_type": "code",
   "execution_count": 115,
   "metadata": {},
   "outputs": [],
   "source": [
    "df = df.loc[:, ['show_date', 'venue', 'location', 'show_rating', 'set', 'title', 'url', 'comment']]\n"
   ]
  },
  {
   "cell_type": "code",
   "execution_count": 116,
   "metadata": {},
   "outputs": [],
   "source": [
    "df.to_csv(\"phish_data_2009-2017.csv\", index=False)\n"
   ]
  },
  {
   "cell_type": "code",
   "execution_count": null,
   "metadata": {},
   "outputs": [],
   "source": []
  }
 ],
 "metadata": {
  "kernelspec": {
   "display_name": "Python 3",
   "language": "python",
   "name": "python3"
  },
  "language_info": {
   "codemirror_mode": {
    "name": "ipython",
    "version": 3
   },
   "file_extension": ".py",
   "mimetype": "text/x-python",
   "name": "python",
   "nbconvert_exporter": "python",
   "pygments_lexer": "ipython3",
   "version": "3.6.4"
  }
 },
 "nbformat": 4,
 "nbformat_minor": 2
}
